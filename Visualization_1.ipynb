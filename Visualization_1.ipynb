{
 "cells": [
  {
   "cell_type": "markdown",
   "metadata": {},
   "source": [
    "# Visualization n° 1"
   ]
  },
  {
   "cell_type": "markdown",
   "metadata": {},
   "source": [
    "## Loading the data"
   ]
  },
  {
   "cell_type": "code",
   "execution_count": 1,
   "metadata": {},
   "outputs": [],
   "source": [
    "import altair as alt\n",
    "import os\n",
    "import pandas as pd\n",
    "import geopandas as gpd # Requires geopandas -- e.g.: conda install -c conda-forge geopandas\n",
    "alt.data_transformers.enable('json') # Let Altair/Vega-Lite work with large data sets\n",
    "\n",
    "pass"
   ]
  },
  {
   "cell_type": "code",
   "execution_count": 2,
   "metadata": {},
   "outputs": [
    {
     "data": {
      "text/html": [
       "<div>\n",
       "<style scoped>\n",
       "    .dataframe tbody tr th:only-of-type {\n",
       "        vertical-align: middle;\n",
       "    }\n",
       "\n",
       "    .dataframe tbody tr th {\n",
       "        vertical-align: top;\n",
       "    }\n",
       "\n",
       "    .dataframe thead th {\n",
       "        text-align: right;\n",
       "    }\n",
       "</style>\n",
       "<table border=\"1\" class=\"dataframe\">\n",
       "  <thead>\n",
       "    <tr style=\"text-align: right;\">\n",
       "      <th></th>\n",
       "      <th>sexe</th>\n",
       "      <th>preusuel</th>\n",
       "      <th>annais</th>\n",
       "      <th>dpt</th>\n",
       "      <th>nombre</th>\n",
       "    </tr>\n",
       "  </thead>\n",
       "  <tbody>\n",
       "    <tr>\n",
       "      <th>3242575</th>\n",
       "      <td>2</td>\n",
       "      <td>MIREILLE</td>\n",
       "      <td>1959</td>\n",
       "      <td>12</td>\n",
       "      <td>12</td>\n",
       "    </tr>\n",
       "    <tr>\n",
       "      <th>1589263</th>\n",
       "      <td>1</td>\n",
       "      <td>THOMAS</td>\n",
       "      <td>1979</td>\n",
       "      <td>84</td>\n",
       "      <td>35</td>\n",
       "    </tr>\n",
       "    <tr>\n",
       "      <th>1729602</th>\n",
       "      <td>1</td>\n",
       "      <td>ZLATAN</td>\n",
       "      <td>2020</td>\n",
       "      <td>67</td>\n",
       "      <td>3</td>\n",
       "    </tr>\n",
       "    <tr>\n",
       "      <th>3338525</th>\n",
       "      <td>2</td>\n",
       "      <td>NOLWEN</td>\n",
       "      <td>1982</td>\n",
       "      <td>29</td>\n",
       "      <td>3</td>\n",
       "    </tr>\n",
       "    <tr>\n",
       "      <th>318233</th>\n",
       "      <td>1</td>\n",
       "      <td>CLAUDE</td>\n",
       "      <td>1978</td>\n",
       "      <td>38</td>\n",
       "      <td>14</td>\n",
       "    </tr>\n",
       "  </tbody>\n",
       "</table>\n",
       "</div>"
      ],
      "text/plain": [
       "         sexe  preusuel annais dpt  nombre\n",
       "3242575     2  MIREILLE   1959  12      12\n",
       "1589263     1    THOMAS   1979  84      35\n",
       "1729602     1    ZLATAN   2020  67       3\n",
       "3338525     2    NOLWEN   1982  29       3\n",
       "318233      1    CLAUDE   1978  38      14"
      ]
     },
     "execution_count": 2,
     "metadata": {},
     "output_type": "execute_result"
    }
   ],
   "source": [
    "names = pd.read_csv(\"dpt2020.csv\", sep=\";\")\n",
    "names.drop(names[names.preusuel == '_PRENOMS_RARES'].index, inplace=True)\n",
    "names.drop(names[names.dpt == 'XX'].index, inplace=True)\n",
    "\n",
    "names.sample(5)"
   ]
  },
  {
   "cell_type": "code",
   "execution_count": 3,
   "metadata": {},
   "outputs": [],
   "source": [
    "depts = gpd.read_file('departements-version-simplifiee.geojson')"
   ]
  },
  {
   "cell_type": "markdown",
   "metadata": {},
   "source": [
    "## Data processing and Visualization"
   ]
  },
  {
   "cell_type": "code",
   "execution_count": 4,
   "metadata": {},
   "outputs": [
    {
     "data": {
      "text/html": [
       "<div>\n",
       "<style scoped>\n",
       "    .dataframe tbody tr th:only-of-type {\n",
       "        vertical-align: middle;\n",
       "    }\n",
       "\n",
       "    .dataframe tbody tr th {\n",
       "        vertical-align: top;\n",
       "    }\n",
       "\n",
       "    .dataframe thead th {\n",
       "        text-align: right;\n",
       "    }\n",
       "</style>\n",
       "<table border=\"1\" class=\"dataframe\">\n",
       "  <thead>\n",
       "    <tr style=\"text-align: right;\">\n",
       "      <th></th>\n",
       "      <th>annais</th>\n",
       "      <th>preusuel</th>\n",
       "      <th>sexe</th>\n",
       "      <th>nombre</th>\n",
       "    </tr>\n",
       "  </thead>\n",
       "  <tbody>\n",
       "    <tr>\n",
       "      <th>0</th>\n",
       "      <td>1900</td>\n",
       "      <td>ABEL</td>\n",
       "      <td>51</td>\n",
       "      <td>382</td>\n",
       "    </tr>\n",
       "    <tr>\n",
       "      <th>1</th>\n",
       "      <td>1900</td>\n",
       "      <td>ABRAHAM</td>\n",
       "      <td>2</td>\n",
       "      <td>9</td>\n",
       "    </tr>\n",
       "    <tr>\n",
       "      <th>2</th>\n",
       "      <td>1900</td>\n",
       "      <td>ACHILLE</td>\n",
       "      <td>18</td>\n",
       "      <td>152</td>\n",
       "    </tr>\n",
       "    <tr>\n",
       "      <th>3</th>\n",
       "      <td>1900</td>\n",
       "      <td>ACHILLES</td>\n",
       "      <td>1</td>\n",
       "      <td>4</td>\n",
       "    </tr>\n",
       "    <tr>\n",
       "      <th>4</th>\n",
       "      <td>1900</td>\n",
       "      <td>ADAM</td>\n",
       "      <td>1</td>\n",
       "      <td>9</td>\n",
       "    </tr>\n",
       "    <tr>\n",
       "      <th>...</th>\n",
       "      <td>...</td>\n",
       "      <td>...</td>\n",
       "      <td>...</td>\n",
       "      <td>...</td>\n",
       "    </tr>\n",
       "    <tr>\n",
       "      <th>249121</th>\n",
       "      <td>2020</td>\n",
       "      <td>ÉVA</td>\n",
       "      <td>60</td>\n",
       "      <td>156</td>\n",
       "    </tr>\n",
       "    <tr>\n",
       "      <th>249122</th>\n",
       "      <td>2020</td>\n",
       "      <td>ÉVAN</td>\n",
       "      <td>16</td>\n",
       "      <td>62</td>\n",
       "    </tr>\n",
       "    <tr>\n",
       "      <th>249123</th>\n",
       "      <td>2020</td>\n",
       "      <td>ÉZIO</td>\n",
       "      <td>4</td>\n",
       "      <td>12</td>\n",
       "    </tr>\n",
       "    <tr>\n",
       "      <th>249124</th>\n",
       "      <td>2020</td>\n",
       "      <td>ÉZÉCHIEL</td>\n",
       "      <td>3</td>\n",
       "      <td>11</td>\n",
       "    </tr>\n",
       "    <tr>\n",
       "      <th>249125</th>\n",
       "      <td>2020</td>\n",
       "      <td>ÖMER</td>\n",
       "      <td>7</td>\n",
       "      <td>24</td>\n",
       "    </tr>\n",
       "  </tbody>\n",
       "</table>\n",
       "<p>249126 rows × 4 columns</p>\n",
       "</div>"
      ],
      "text/plain": [
       "       annais  preusuel  sexe  nombre\n",
       "0        1900      ABEL    51     382\n",
       "1        1900   ABRAHAM     2       9\n",
       "2        1900   ACHILLE    18     152\n",
       "3        1900  ACHILLES     1       4\n",
       "4        1900      ADAM     1       9\n",
       "...       ...       ...   ...     ...\n",
       "249121   2020       ÉVA    60     156\n",
       "249122   2020      ÉVAN    16      62\n",
       "249123   2020      ÉZIO     4      12\n",
       "249124   2020  ÉZÉCHIEL     3      11\n",
       "249125   2020      ÖMER     7      24\n",
       "\n",
       "[249126 rows x 4 columns]"
      ]
     },
     "execution_count": 4,
     "metadata": {},
     "output_type": "execute_result"
    }
   ],
   "source": [
    "grouped = names.groupby(['annais', 'preusuel'], as_index=False).sum()\n",
    "grouped"
   ]
  },
  {
   "cell_type": "code",
   "execution_count": 5,
   "metadata": {},
   "outputs": [
    {
     "name": "stdout",
     "output_type": "stream",
     "text": [
      "Top 5 names from 1900 to 2019 : \n",
      "['MARIE', 'JEAN', 'PIERRE', 'MICHEL', 'ANDRÉ']\n",
      "Top 6-10 names from 1900 to 2019 : \n",
      "['JEANNE', 'PHILIPPE', 'LOUIS', 'RENÉ', 'ALAIN']\n",
      "Worst 5 names :  ['MEDEA', 'CHRISTOPH', 'LÉNORA', 'LÉNO', 'CHRISTOS']\n"
     ]
    }
   ],
   "source": [
    "top_5_names = grouped.groupby('preusuel')[\"nombre\"].sum().sort_values()[::-1][:5].index.tolist()\n",
    "top_6_10_names = grouped.groupby('preusuel')[\"nombre\"].sum().sort_values()[::-1][5:10].index.tolist()\n",
    "worst_5_names = grouped.groupby('preusuel')[\"nombre\"].sum().sort_values()[:5].index.tolist()\n",
    "print(\"Top 5 names from 1900 to 2019 : \\n{}\".format(top_5_names))\n",
    "print(\"Top 6-10 names from 1900 to 2019 : \\n{}\".format(top_6_10_names))\n",
    "print(\"Worst 5 names : \", worst_5_names)"
   ]
  },
  {
   "cell_type": "code",
   "execution_count": 6,
   "metadata": {},
   "outputs": [],
   "source": [
    "subset1 = grouped.loc[grouped[\"preusuel\"].apply(lambda x : any(x == name for name in top_5_names))]\n",
    "subset2 = grouped.loc[grouped[\"preusuel\"].apply(lambda x : any(x == name for name in top_6_10_names))]\n",
    "subset3 = grouped.loc[grouped[\"preusuel\"].apply(lambda x : any(x == name for name in worst_5_names))]"
   ]
  },
  {
   "cell_type": "code",
   "execution_count": 7,
   "metadata": {
    "scrolled": true
   },
   "outputs": [],
   "source": [
    "base1 = alt.Chart(subset1).mark_area(opacity=0.3).encode(\n",
    "    x=alt.X(\"annais:T\", title='Year'),\n",
    "    y=alt.Y(\"nombre:Q\", stack=None, title='Number of times the name was given'), \n",
    "    color=alt.Color(\"preusuel:N\", title = \"Top 10 names\")\n",
    "    ).properties(width=800, height=400\n",
    "    )\n",
    "\n",
    "base2 = alt.Chart(subset2).mark_area(opacity=0.3).encode(\n",
    "    x=alt.X(\"annais:T\", title='Year'),\n",
    "    y=alt.Y(\"nombre:Q\", stack=None, title='Number of times the name was given'), \n",
    "    color=alt.Color(\"preusuel:N\")\n",
    "    ).properties(width=800, height=400\n",
    "    )\n",
    "\n",
    "base3 = alt.Chart(subset3).mark_bar(opacity=0.3).encode(\n",
    "    x=alt.X(\"annais:T\", title='Year'),\n",
    "    y=alt.Y(\"nombre:Q\", stack=None, title='Number of times the name was given'), \n",
    "    color=alt.Color(\"preusuel:N\", title = \"Worst 5 names\")\n",
    "    ).properties(width=800, height=400\n",
    "    )"
   ]
  },
  {
   "cell_type": "code",
   "execution_count": 8,
   "metadata": {},
   "outputs": [
    {
     "data": {
      "text/html": [
       "\n",
       "<div id=\"altair-viz-bd0b30656f5c4453be2a7c49fde75e44\"></div>\n",
       "<script type=\"text/javascript\">\n",
       "  var VEGA_DEBUG = (typeof VEGA_DEBUG == \"undefined\") ? {} : VEGA_DEBUG;\n",
       "  (function(spec, embedOpt){\n",
       "    let outputDiv = document.currentScript.previousElementSibling;\n",
       "    if (outputDiv.id !== \"altair-viz-bd0b30656f5c4453be2a7c49fde75e44\") {\n",
       "      outputDiv = document.getElementById(\"altair-viz-bd0b30656f5c4453be2a7c49fde75e44\");\n",
       "    }\n",
       "    const paths = {\n",
       "      \"vega\": \"https://cdn.jsdelivr.net/npm//vega@5?noext\",\n",
       "      \"vega-lib\": \"https://cdn.jsdelivr.net/npm//vega-lib?noext\",\n",
       "      \"vega-lite\": \"https://cdn.jsdelivr.net/npm//vega-lite@4.17.0?noext\",\n",
       "      \"vega-embed\": \"https://cdn.jsdelivr.net/npm//vega-embed@6?noext\",\n",
       "    };\n",
       "\n",
       "    function maybeLoadScript(lib, version) {\n",
       "      var key = `${lib.replace(\"-\", \"\")}_version`;\n",
       "      return (VEGA_DEBUG[key] == version) ?\n",
       "        Promise.resolve(paths[lib]) :\n",
       "        new Promise(function(resolve, reject) {\n",
       "          var s = document.createElement('script');\n",
       "          document.getElementsByTagName(\"head\")[0].appendChild(s);\n",
       "          s.async = true;\n",
       "          s.onload = () => {\n",
       "            VEGA_DEBUG[key] = version;\n",
       "            return resolve(paths[lib]);\n",
       "          };\n",
       "          s.onerror = () => reject(`Error loading script: ${paths[lib]}`);\n",
       "          s.src = paths[lib];\n",
       "        });\n",
       "    }\n",
       "\n",
       "    function showError(err) {\n",
       "      outputDiv.innerHTML = `<div class=\"error\" style=\"color:red;\">${err}</div>`;\n",
       "      throw err;\n",
       "    }\n",
       "\n",
       "    function displayChart(vegaEmbed) {\n",
       "      vegaEmbed(outputDiv, spec, embedOpt)\n",
       "        .catch(err => showError(`Javascript Error: ${err.message}<br>This usually means there's a typo in your chart specification. See the javascript console for the full traceback.`));\n",
       "    }\n",
       "\n",
       "    if(typeof define === \"function\" && define.amd) {\n",
       "      requirejs.config({paths});\n",
       "      require([\"vega-embed\"], displayChart, err => showError(`Error loading script: ${err.message}`));\n",
       "    } else {\n",
       "      maybeLoadScript(\"vega\", \"5\")\n",
       "        .then(() => maybeLoadScript(\"vega-lite\", \"4.17.0\"))\n",
       "        .then(() => maybeLoadScript(\"vega-embed\", \"6\"))\n",
       "        .catch(showError)\n",
       "        .then(() => displayChart(vegaEmbed));\n",
       "    }\n",
       "  })({\"config\": {\"view\": {\"continuousWidth\": 400, \"continuousHeight\": 300}}, \"vconcat\": [{\"data\": {\"url\": \"altair-data-11598991b9d1df85eeec7de46f32cd91.json\", \"format\": {\"type\": \"json\"}}, \"mark\": {\"type\": \"area\", \"opacity\": 0.3}, \"encoding\": {\"color\": {\"field\": \"preusuel\", \"title\": \"Top 10 names\", \"type\": \"nominal\"}, \"x\": {\"field\": \"annais\", \"title\": \"Year\", \"type\": \"temporal\"}, \"y\": {\"field\": \"nombre\", \"stack\": null, \"title\": \"Number of times the name was given\", \"type\": \"quantitative\"}}, \"height\": 400, \"width\": 800}, {\"data\": {\"url\": \"altair-data-2fcb1bd91d65a89ac21a2932b77335fc.json\", \"format\": {\"type\": \"json\"}}, \"mark\": {\"type\": \"area\", \"opacity\": 0.3}, \"encoding\": {\"color\": {\"field\": \"preusuel\", \"type\": \"nominal\"}, \"x\": {\"field\": \"annais\", \"title\": \"Year\", \"type\": \"temporal\"}, \"y\": {\"field\": \"nombre\", \"stack\": null, \"title\": \"Number of times the name was given\", \"type\": \"quantitative\"}}, \"height\": 400, \"width\": 800}], \"$schema\": \"https://vega.github.io/schema/vega-lite/v4.17.0.json\"}, {\"mode\": \"vega-lite\"});\n",
       "</script>"
      ],
      "text/plain": [
       "alt.VConcatChart(...)"
      ]
     },
     "execution_count": 8,
     "metadata": {},
     "output_type": "execute_result"
    }
   ],
   "source": [
    "base1 & base2"
   ]
  },
  {
   "cell_type": "code",
   "execution_count": 9,
   "metadata": {},
   "outputs": [
    {
     "data": {
      "text/html": [
       "\n",
       "<div id=\"altair-viz-c1b9642921eb4472824d29263e4e93c5\"></div>\n",
       "<script type=\"text/javascript\">\n",
       "  var VEGA_DEBUG = (typeof VEGA_DEBUG == \"undefined\") ? {} : VEGA_DEBUG;\n",
       "  (function(spec, embedOpt){\n",
       "    let outputDiv = document.currentScript.previousElementSibling;\n",
       "    if (outputDiv.id !== \"altair-viz-c1b9642921eb4472824d29263e4e93c5\") {\n",
       "      outputDiv = document.getElementById(\"altair-viz-c1b9642921eb4472824d29263e4e93c5\");\n",
       "    }\n",
       "    const paths = {\n",
       "      \"vega\": \"https://cdn.jsdelivr.net/npm//vega@5?noext\",\n",
       "      \"vega-lib\": \"https://cdn.jsdelivr.net/npm//vega-lib?noext\",\n",
       "      \"vega-lite\": \"https://cdn.jsdelivr.net/npm//vega-lite@4.17.0?noext\",\n",
       "      \"vega-embed\": \"https://cdn.jsdelivr.net/npm//vega-embed@6?noext\",\n",
       "    };\n",
       "\n",
       "    function maybeLoadScript(lib, version) {\n",
       "      var key = `${lib.replace(\"-\", \"\")}_version`;\n",
       "      return (VEGA_DEBUG[key] == version) ?\n",
       "        Promise.resolve(paths[lib]) :\n",
       "        new Promise(function(resolve, reject) {\n",
       "          var s = document.createElement('script');\n",
       "          document.getElementsByTagName(\"head\")[0].appendChild(s);\n",
       "          s.async = true;\n",
       "          s.onload = () => {\n",
       "            VEGA_DEBUG[key] = version;\n",
       "            return resolve(paths[lib]);\n",
       "          };\n",
       "          s.onerror = () => reject(`Error loading script: ${paths[lib]}`);\n",
       "          s.src = paths[lib];\n",
       "        });\n",
       "    }\n",
       "\n",
       "    function showError(err) {\n",
       "      outputDiv.innerHTML = `<div class=\"error\" style=\"color:red;\">${err}</div>`;\n",
       "      throw err;\n",
       "    }\n",
       "\n",
       "    function displayChart(vegaEmbed) {\n",
       "      vegaEmbed(outputDiv, spec, embedOpt)\n",
       "        .catch(err => showError(`Javascript Error: ${err.message}<br>This usually means there's a typo in your chart specification. See the javascript console for the full traceback.`));\n",
       "    }\n",
       "\n",
       "    if(typeof define === \"function\" && define.amd) {\n",
       "      requirejs.config({paths});\n",
       "      require([\"vega-embed\"], displayChart, err => showError(`Error loading script: ${err.message}`));\n",
       "    } else {\n",
       "      maybeLoadScript(\"vega\", \"5\")\n",
       "        .then(() => maybeLoadScript(\"vega-lite\", \"4.17.0\"))\n",
       "        .then(() => maybeLoadScript(\"vega-embed\", \"6\"))\n",
       "        .catch(showError)\n",
       "        .then(() => displayChart(vegaEmbed));\n",
       "    }\n",
       "  })({\"config\": {\"view\": {\"continuousWidth\": 400, \"continuousHeight\": 300}}, \"data\": {\"url\": \"altair-data-d74200d7ade5a78612a47f0c846a0f67.json\", \"format\": {\"type\": \"json\"}}, \"mark\": {\"type\": \"bar\", \"opacity\": 0.3}, \"encoding\": {\"color\": {\"field\": \"preusuel\", \"title\": \"Worst 5 names\", \"type\": \"nominal\"}, \"x\": {\"field\": \"annais\", \"title\": \"Year\", \"type\": \"temporal\"}, \"y\": {\"field\": \"nombre\", \"stack\": null, \"title\": \"Number of times the name was given\", \"type\": \"quantitative\"}}, \"height\": 400, \"width\": 800, \"$schema\": \"https://vega.github.io/schema/vega-lite/v4.17.0.json\"}, {\"mode\": \"vega-lite\"});\n",
       "</script>"
      ],
      "text/plain": [
       "alt.Chart(...)"
      ]
     },
     "execution_count": 9,
     "metadata": {},
     "output_type": "execute_result"
    }
   ],
   "source": [
    "base3"
   ]
  },
  {
   "cell_type": "markdown",
   "metadata": {},
   "source": [
    "*NB*: To see the charts, it is necessary to download the notebook and run the code (charts are note available directly from github.)"
   ]
  },
  {
   "cell_type": "markdown",
   "metadata": {},
   "source": [
    "*Answers and Interpretation* : We notice that the first names tend to evolve in a bell shape. They gradually increase until they reach a maximum value before gradually decreasing in the same way. Most of the names do not have a constant popularity as explained before. Some first names also never had success as we can see on the graph 3 like Léno or Médea. \n",
    "\n",
    "We can also see that some first names have known a great popularity in a brief way as Philippe between 1955 and 1970. We can also notice that this same first name is absolutely not more popular since about twenty years. Finally, we can observe a trend in the time which seems to be polynomial and approximately of degree 2 for all the first names. "
   ]
  }
 ],
 "metadata": {
  "kernelspec": {
   "display_name": "Python 3 (ipykernel)",
   "language": "python",
   "name": "python3"
  },
  "language_info": {
   "codemirror_mode": {
    "name": "ipython",
    "version": 3
   },
   "file_extension": ".py",
   "mimetype": "text/x-python",
   "name": "python",
   "nbconvert_exporter": "python",
   "pygments_lexer": "ipython3",
   "version": "3.8.8"
  },
  "toc": {
   "base_numbering": 1,
   "nav_menu": {},
   "number_sections": true,
   "sideBar": true,
   "skip_h1_title": false,
   "title_cell": "Table of Contents",
   "title_sidebar": "Contents",
   "toc_cell": false,
   "toc_position": {},
   "toc_section_display": true,
   "toc_window_display": false
  }
 },
 "nbformat": 4,
 "nbformat_minor": 2
}
