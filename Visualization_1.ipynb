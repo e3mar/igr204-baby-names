{
 "cells": [
  {
   "cell_type": "markdown",
   "metadata": {},
   "source": [
    "# Visualization n° 1"
   ]
  },
  {
   "cell_type": "markdown",
   "metadata": {},
   "source": [
    "## Loading the data"
   ]
  },
  {
   "cell_type": "code",
   "execution_count": 158,
   "metadata": {},
   "outputs": [],
   "source": [
    "import altair as alt\n",
    "import os\n",
    "import pandas as pd\n",
    "import geopandas as gpd # Requires geopandas -- e.g.: conda install -c conda-forge geopandas\n",
    "alt.data_transformers.enable('json') # Let Altair/Vega-Lite work with large data sets\n",
    "\n",
    "pass"
   ]
  },
  {
   "cell_type": "code",
   "execution_count": 159,
   "metadata": {},
   "outputs": [
    {
     "data": {
      "text/html": [
       "<div>\n",
       "<style scoped>\n",
       "    .dataframe tbody tr th:only-of-type {\n",
       "        vertical-align: middle;\n",
       "    }\n",
       "\n",
       "    .dataframe tbody tr th {\n",
       "        vertical-align: top;\n",
       "    }\n",
       "\n",
       "    .dataframe thead th {\n",
       "        text-align: right;\n",
       "    }\n",
       "</style>\n",
       "<table border=\"1\" class=\"dataframe\">\n",
       "  <thead>\n",
       "    <tr style=\"text-align: right;\">\n",
       "      <th></th>\n",
       "      <th>sexe</th>\n",
       "      <th>preusuel</th>\n",
       "      <th>annais</th>\n",
       "      <th>dpt</th>\n",
       "      <th>nombre</th>\n",
       "    </tr>\n",
       "  </thead>\n",
       "  <tbody>\n",
       "    <tr>\n",
       "      <th>1216658</th>\n",
       "      <td>1</td>\n",
       "      <td>MILHAN</td>\n",
       "      <td>2020</td>\n",
       "      <td>31</td>\n",
       "      <td>6</td>\n",
       "    </tr>\n",
       "    <tr>\n",
       "      <th>1605653</th>\n",
       "      <td>1</td>\n",
       "      <td>TOM</td>\n",
       "      <td>1990</td>\n",
       "      <td>75</td>\n",
       "      <td>37</td>\n",
       "    </tr>\n",
       "    <tr>\n",
       "      <th>1087386</th>\n",
       "      <td>1</td>\n",
       "      <td>MARC</td>\n",
       "      <td>1946</td>\n",
       "      <td>39</td>\n",
       "      <td>8</td>\n",
       "    </tr>\n",
       "    <tr>\n",
       "      <th>2729722</th>\n",
       "      <td>2</td>\n",
       "      <td>JULIETTE</td>\n",
       "      <td>1933</td>\n",
       "      <td>73</td>\n",
       "      <td>9</td>\n",
       "    </tr>\n",
       "    <tr>\n",
       "      <th>984788</th>\n",
       "      <td>1</td>\n",
       "      <td>LÉON</td>\n",
       "      <td>1907</td>\n",
       "      <td>06</td>\n",
       "      <td>21</td>\n",
       "    </tr>\n",
       "  </tbody>\n",
       "</table>\n",
       "</div>"
      ],
      "text/plain": [
       "         sexe  preusuel annais dpt  nombre\n",
       "1216658     1    MILHAN   2020  31       6\n",
       "1605653     1       TOM   1990  75      37\n",
       "1087386     1      MARC   1946  39       8\n",
       "2729722     2  JULIETTE   1933  73       9\n",
       "984788      1      LÉON   1907  06      21"
      ]
     },
     "execution_count": 159,
     "metadata": {},
     "output_type": "execute_result"
    }
   ],
   "source": [
    "names = pd.read_csv(\"dpt2020.csv\", sep=\";\")\n",
    "names.drop(names[names.preusuel == '_PRENOMS_RARES'].index, inplace=True)\n",
    "names.drop(names[names.dpt == 'XX'].index, inplace=True)\n",
    "\n",
    "names.sample(5)"
   ]
  },
  {
   "cell_type": "code",
   "execution_count": 177,
   "metadata": {},
   "outputs": [],
   "source": [
    "depts = gpd.read_file('departements-version-simplifiee.geojson')"
   ]
  },
  {
   "cell_type": "markdown",
   "metadata": {},
   "source": [
    "## Data processing and Visualization"
   ]
  },
  {
   "cell_type": "code",
   "execution_count": 161,
   "metadata": {},
   "outputs": [
    {
     "data": {
      "text/html": [
       "<div>\n",
       "<style scoped>\n",
       "    .dataframe tbody tr th:only-of-type {\n",
       "        vertical-align: middle;\n",
       "    }\n",
       "\n",
       "    .dataframe tbody tr th {\n",
       "        vertical-align: top;\n",
       "    }\n",
       "\n",
       "    .dataframe thead th {\n",
       "        text-align: right;\n",
       "    }\n",
       "</style>\n",
       "<table border=\"1\" class=\"dataframe\">\n",
       "  <thead>\n",
       "    <tr style=\"text-align: right;\">\n",
       "      <th></th>\n",
       "      <th>annais</th>\n",
       "      <th>preusuel</th>\n",
       "      <th>sexe</th>\n",
       "      <th>nombre</th>\n",
       "    </tr>\n",
       "  </thead>\n",
       "  <tbody>\n",
       "    <tr>\n",
       "      <th>0</th>\n",
       "      <td>1900</td>\n",
       "      <td>ABEL</td>\n",
       "      <td>1</td>\n",
       "      <td>382</td>\n",
       "    </tr>\n",
       "    <tr>\n",
       "      <th>1</th>\n",
       "      <td>1900</td>\n",
       "      <td>ABRAHAM</td>\n",
       "      <td>1</td>\n",
       "      <td>9</td>\n",
       "    </tr>\n",
       "    <tr>\n",
       "      <th>2</th>\n",
       "      <td>1900</td>\n",
       "      <td>ACHILLE</td>\n",
       "      <td>1</td>\n",
       "      <td>152</td>\n",
       "    </tr>\n",
       "    <tr>\n",
       "      <th>3</th>\n",
       "      <td>1900</td>\n",
       "      <td>ACHILLES</td>\n",
       "      <td>1</td>\n",
       "      <td>4</td>\n",
       "    </tr>\n",
       "    <tr>\n",
       "      <th>4</th>\n",
       "      <td>1900</td>\n",
       "      <td>ADAM</td>\n",
       "      <td>1</td>\n",
       "      <td>9</td>\n",
       "    </tr>\n",
       "    <tr>\n",
       "      <th>...</th>\n",
       "      <td>...</td>\n",
       "      <td>...</td>\n",
       "      <td>...</td>\n",
       "      <td>...</td>\n",
       "    </tr>\n",
       "    <tr>\n",
       "      <th>257341</th>\n",
       "      <td>2020</td>\n",
       "      <td>ÉVA</td>\n",
       "      <td>2</td>\n",
       "      <td>156</td>\n",
       "    </tr>\n",
       "    <tr>\n",
       "      <th>257342</th>\n",
       "      <td>2020</td>\n",
       "      <td>ÉVAN</td>\n",
       "      <td>1</td>\n",
       "      <td>62</td>\n",
       "    </tr>\n",
       "    <tr>\n",
       "      <th>257343</th>\n",
       "      <td>2020</td>\n",
       "      <td>ÉZIO</td>\n",
       "      <td>1</td>\n",
       "      <td>12</td>\n",
       "    </tr>\n",
       "    <tr>\n",
       "      <th>257344</th>\n",
       "      <td>2020</td>\n",
       "      <td>ÉZÉCHIEL</td>\n",
       "      <td>1</td>\n",
       "      <td>11</td>\n",
       "    </tr>\n",
       "    <tr>\n",
       "      <th>257345</th>\n",
       "      <td>2020</td>\n",
       "      <td>ÖMER</td>\n",
       "      <td>1</td>\n",
       "      <td>24</td>\n",
       "    </tr>\n",
       "  </tbody>\n",
       "</table>\n",
       "<p>257346 rows × 4 columns</p>\n",
       "</div>"
      ],
      "text/plain": [
       "       annais  preusuel  sexe  nombre\n",
       "0        1900      ABEL     1     382\n",
       "1        1900   ABRAHAM     1       9\n",
       "2        1900   ACHILLE     1     152\n",
       "3        1900  ACHILLES     1       4\n",
       "4        1900      ADAM     1       9\n",
       "...       ...       ...   ...     ...\n",
       "257341   2020       ÉVA     2     156\n",
       "257342   2020      ÉVAN     1      62\n",
       "257343   2020      ÉZIO     1      12\n",
       "257344   2020  ÉZÉCHIEL     1      11\n",
       "257345   2020      ÖMER     1      24\n",
       "\n",
       "[257346 rows x 4 columns]"
      ]
     },
     "execution_count": 161,
     "metadata": {},
     "output_type": "execute_result"
    }
   ],
   "source": [
    "grouped = names.groupby(['annais', 'preusuel', 'sexe'], as_index=False).sum()\n",
    "grouped"
   ]
  },
  {
   "cell_type": "code",
   "execution_count": 270,
   "metadata": {},
   "outputs": [
    {
     "name": "stdout",
     "output_type": "stream",
     "text": [
      "Top 5 names from 1900 to 2019 : \n",
      "['MARIE', 'JEAN', 'PIERRE', 'MICHEL', 'ANDRÉ']\n",
      "Top 6-10 names from 1900 to 2019 : \n",
      "['JEANNE', 'PHILIPPE', 'LOUIS', 'RENÉ', 'ALAIN']\n"
     ]
    }
   ],
   "source": [
    "top_5_names = grouped.groupby('preusuel')[\"nombre\"].sum().sort_values()[::-1][:5].index.tolist()\n",
    "top_6_10_names = grouped.groupby('preusuel')[\"nombre\"].sum().sort_values()[::-1][5:10].index.tolist()\n",
    "print(\"Top 5 names from 1900 to 2019 : \\n{}\".format(top_5_names))\n",
    "print(\"Top 6-10 names from 1900 to 2019 : \\n{}\".format(top_6_10_names))"
   ]
  },
  {
   "cell_type": "code",
   "execution_count": 271,
   "metadata": {},
   "outputs": [],
   "source": [
    "subset1 = grouped.loc[grouped[\"preusuel\"].apply(lambda x : any(x == name for name in top_5_names))]\n",
    "subset2 = grouped.loc[grouped[\"preusuel\"].apply(lambda x : any(x == name for name in top_6_10_names))]"
   ]
  },
  {
   "cell_type": "code",
   "execution_count": 289,
   "metadata": {
    "scrolled": true
   },
   "outputs": [],
   "source": [
    "base1 = alt.Chart(subset1).mark_area(opacity=0.3).encode(\n",
    "    x=alt.X(\"annais:T\", title='Année'),\n",
    "    y=alt.Y(\"nombre:Q\", stack=None, title='Nombre de fois que le prénom a été donné'), \n",
    "    color=alt.Color(\"preusuel:N\", title = \"Top 10 des prénoms\")\n",
    "    ).properties(width=800, height=400\n",
    "    )\n",
    "\n",
    "base2 = alt.Chart(subset2).mark_area(opacity=0.3).encode(\n",
    "    x=alt.X(\"annais:T\", title='Année'),\n",
    "    y=alt.Y(\"nombre:Q\", stack=None, title='Nombre de fois que le prénom a été donné'), \n",
    "    color=alt.Color(\"preusuel:N\")\n",
    "    ).properties(width=800, height=400\n",
    "    )"
   ]
  },
  {
   "cell_type": "code",
   "execution_count": 290,
   "metadata": {},
   "outputs": [
    {
     "data": {
      "text/html": [
       "\n",
       "<div id=\"altair-viz-f8c5b127f345413c99927ee0f3db8bd4\"></div>\n",
       "<script type=\"text/javascript\">\n",
       "  var VEGA_DEBUG = (typeof VEGA_DEBUG == \"undefined\") ? {} : VEGA_DEBUG;\n",
       "  (function(spec, embedOpt){\n",
       "    let outputDiv = document.currentScript.previousElementSibling;\n",
       "    if (outputDiv.id !== \"altair-viz-f8c5b127f345413c99927ee0f3db8bd4\") {\n",
       "      outputDiv = document.getElementById(\"altair-viz-f8c5b127f345413c99927ee0f3db8bd4\");\n",
       "    }\n",
       "    const paths = {\n",
       "      \"vega\": \"https://cdn.jsdelivr.net/npm//vega@5?noext\",\n",
       "      \"vega-lib\": \"https://cdn.jsdelivr.net/npm//vega-lib?noext\",\n",
       "      \"vega-lite\": \"https://cdn.jsdelivr.net/npm//vega-lite@4.17.0?noext\",\n",
       "      \"vega-embed\": \"https://cdn.jsdelivr.net/npm//vega-embed@6?noext\",\n",
       "    };\n",
       "\n",
       "    function maybeLoadScript(lib, version) {\n",
       "      var key = `${lib.replace(\"-\", \"\")}_version`;\n",
       "      return (VEGA_DEBUG[key] == version) ?\n",
       "        Promise.resolve(paths[lib]) :\n",
       "        new Promise(function(resolve, reject) {\n",
       "          var s = document.createElement('script');\n",
       "          document.getElementsByTagName(\"head\")[0].appendChild(s);\n",
       "          s.async = true;\n",
       "          s.onload = () => {\n",
       "            VEGA_DEBUG[key] = version;\n",
       "            return resolve(paths[lib]);\n",
       "          };\n",
       "          s.onerror = () => reject(`Error loading script: ${paths[lib]}`);\n",
       "          s.src = paths[lib];\n",
       "        });\n",
       "    }\n",
       "\n",
       "    function showError(err) {\n",
       "      outputDiv.innerHTML = `<div class=\"error\" style=\"color:red;\">${err}</div>`;\n",
       "      throw err;\n",
       "    }\n",
       "\n",
       "    function displayChart(vegaEmbed) {\n",
       "      vegaEmbed(outputDiv, spec, embedOpt)\n",
       "        .catch(err => showError(`Javascript Error: ${err.message}<br>This usually means there's a typo in your chart specification. See the javascript console for the full traceback.`));\n",
       "    }\n",
       "\n",
       "    if(typeof define === \"function\" && define.amd) {\n",
       "      requirejs.config({paths});\n",
       "      require([\"vega-embed\"], displayChart, err => showError(`Error loading script: ${err.message}`));\n",
       "    } else {\n",
       "      maybeLoadScript(\"vega\", \"5\")\n",
       "        .then(() => maybeLoadScript(\"vega-lite\", \"4.17.0\"))\n",
       "        .then(() => maybeLoadScript(\"vega-embed\", \"6\"))\n",
       "        .catch(showError)\n",
       "        .then(() => displayChart(vegaEmbed));\n",
       "    }\n",
       "  })({\"config\": {\"view\": {\"continuousWidth\": 400, \"continuousHeight\": 300}}, \"vconcat\": [{\"data\": {\"url\": \"altair-data-02ea9813d176b09451954d3c5be12ed1.json\", \"format\": {\"type\": \"json\"}}, \"mark\": {\"type\": \"area\", \"opacity\": 0.3}, \"encoding\": {\"color\": {\"field\": \"preusuel\", \"title\": \"Top 10 des pr\\u00e9noms\", \"type\": \"nominal\"}, \"x\": {\"field\": \"annais\", \"title\": \"Ann\\u00e9e\", \"type\": \"temporal\"}, \"y\": {\"field\": \"nombre\", \"stack\": null, \"title\": \"Nombre de fois que le pr\\u00e9nom a \\u00e9t\\u00e9 donn\\u00e9\", \"type\": \"quantitative\"}}, \"height\": 400, \"width\": 800}, {\"data\": {\"url\": \"altair-data-bfe042ecd0f41d550077f2d9d329badf.json\", \"format\": {\"type\": \"json\"}}, \"mark\": {\"type\": \"area\", \"opacity\": 0.3}, \"encoding\": {\"color\": {\"field\": \"preusuel\", \"type\": \"nominal\"}, \"x\": {\"field\": \"annais\", \"title\": \"Ann\\u00e9e\", \"type\": \"temporal\"}, \"y\": {\"field\": \"nombre\", \"stack\": null, \"title\": \"Nombre de fois que le pr\\u00e9nom a \\u00e9t\\u00e9 donn\\u00e9\", \"type\": \"quantitative\"}}, \"height\": 400, \"width\": 800}], \"$schema\": \"https://vega.github.io/schema/vega-lite/v4.17.0.json\"}, {\"mode\": \"vega-lite\"});\n",
       "</script>"
      ],
      "text/plain": [
       "alt.VConcatChart(...)"
      ]
     },
     "execution_count": 290,
     "metadata": {},
     "output_type": "execute_result"
    }
   ],
   "source": [
    "base1 & base2"
   ]
  }
 ],
 "metadata": {
  "kernelspec": {
   "display_name": "Python 3 (ipykernel)",
   "language": "python",
   "name": "python3"
  },
  "language_info": {
   "codemirror_mode": {
    "name": "ipython",
    "version": 3
   },
   "file_extension": ".py",
   "mimetype": "text/x-python",
   "name": "python",
   "nbconvert_exporter": "python",
   "pygments_lexer": "ipython3",
   "version": "3.8.8"
  },
  "toc": {
   "base_numbering": 1,
   "nav_menu": {},
   "number_sections": true,
   "sideBar": true,
   "skip_h1_title": false,
   "title_cell": "Table of Contents",
   "title_sidebar": "Contents",
   "toc_cell": false,
   "toc_position": {},
   "toc_section_display": true,
   "toc_window_display": false
  }
 },
 "nbformat": 4,
 "nbformat_minor": 2
}
