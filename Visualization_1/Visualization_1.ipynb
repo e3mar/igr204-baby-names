{
 "cells": [
  {
   "cell_type": "markdown",
   "metadata": {},
   "source": [
    "# Visualization n° 1"
   ]
  },
  {
   "cell_type": "markdown",
   "metadata": {},
   "source": [
    "## Loading the data"
   ]
  },
  {
   "cell_type": "code",
   "execution_count": 44,
   "metadata": {},
   "outputs": [],
   "source": [
    "import altair as alt\n",
    "import os\n",
    "import pandas as pd\n",
    "import numpy as np\n",
    "import random \n",
    "import geopandas as gpd # Requires geopandas -- e.g.: conda install -c conda-forge geopandas\n",
    "alt.data_transformers.enable('json') # Let Altair/Vega-Lite work with large data sets\n",
    "alt.renderers.enable('default')\n",
    "\n",
    "pass"
   ]
  },
  {
   "cell_type": "code",
   "execution_count": 45,
   "metadata": {},
   "outputs": [
    {
     "data": {
      "text/html": [
       "<div>\n",
       "<style scoped>\n",
       "    .dataframe tbody tr th:only-of-type {\n",
       "        vertical-align: middle;\n",
       "    }\n",
       "\n",
       "    .dataframe tbody tr th {\n",
       "        vertical-align: top;\n",
       "    }\n",
       "\n",
       "    .dataframe thead th {\n",
       "        text-align: right;\n",
       "    }\n",
       "</style>\n",
       "<table border=\"1\" class=\"dataframe\">\n",
       "  <thead>\n",
       "    <tr style=\"text-align: right;\">\n",
       "      <th></th>\n",
       "      <th>sexe</th>\n",
       "      <th>preusuel</th>\n",
       "      <th>annais</th>\n",
       "      <th>dpt</th>\n",
       "      <th>nombre</th>\n",
       "    </tr>\n",
       "  </thead>\n",
       "  <tbody>\n",
       "    <tr>\n",
       "      <th>577796</th>\n",
       "      <td>1</td>\n",
       "      <td>FRÉDÉRIC</td>\n",
       "      <td>1999</td>\n",
       "      <td>03</td>\n",
       "      <td>4</td>\n",
       "    </tr>\n",
       "    <tr>\n",
       "      <th>2217524</th>\n",
       "      <td>2</td>\n",
       "      <td>COLETTE</td>\n",
       "      <td>1957</td>\n",
       "      <td>54</td>\n",
       "      <td>40</td>\n",
       "    </tr>\n",
       "    <tr>\n",
       "      <th>2448874</th>\n",
       "      <td>2</td>\n",
       "      <td>FIONA</td>\n",
       "      <td>1993</td>\n",
       "      <td>49</td>\n",
       "      <td>7</td>\n",
       "    </tr>\n",
       "    <tr>\n",
       "      <th>1561390</th>\n",
       "      <td>1</td>\n",
       "      <td>TAYLOR</td>\n",
       "      <td>2013</td>\n",
       "      <td>69</td>\n",
       "      <td>4</td>\n",
       "    </tr>\n",
       "    <tr>\n",
       "      <th>837291</th>\n",
       "      <td>1</td>\n",
       "      <td>JEAN-PIERRE</td>\n",
       "      <td>1967</td>\n",
       "      <td>27</td>\n",
       "      <td>22</td>\n",
       "    </tr>\n",
       "  </tbody>\n",
       "</table>\n",
       "</div>"
      ],
      "text/plain": [
       "         sexe     preusuel annais dpt  nombre\n",
       "577796      1     FRÉDÉRIC   1999  03       4\n",
       "2217524     2      COLETTE   1957  54      40\n",
       "2448874     2        FIONA   1993  49       7\n",
       "1561390     1       TAYLOR   2013  69       4\n",
       "837291      1  JEAN-PIERRE   1967  27      22"
      ]
     },
     "execution_count": 45,
     "metadata": {},
     "output_type": "execute_result"
    }
   ],
   "source": [
    "names = pd.read_csv(\"dpt2020.csv\", sep=\";\")\n",
    "names.drop(names[names.preusuel == '_PRENOMS_RARES'].index, inplace=True)\n",
    "names.drop(names[names.dpt == 'XX'].index, inplace=True)\n",
    "\n",
    "names.sample(5)"
   ]
  },
  {
   "cell_type": "code",
   "execution_count": 46,
   "metadata": {},
   "outputs": [],
   "source": [
    "depts = gpd.read_file('departements-version-simplifiee.geojson')"
   ]
  },
  {
   "cell_type": "markdown",
   "metadata": {},
   "source": [
    "## Data processing and Visualization"
   ]
  },
  {
   "cell_type": "code",
   "execution_count": 47,
   "metadata": {},
   "outputs": [
    {
     "data": {
      "text/html": [
       "<div>\n",
       "<style scoped>\n",
       "    .dataframe tbody tr th:only-of-type {\n",
       "        vertical-align: middle;\n",
       "    }\n",
       "\n",
       "    .dataframe tbody tr th {\n",
       "        vertical-align: top;\n",
       "    }\n",
       "\n",
       "    .dataframe thead th {\n",
       "        text-align: right;\n",
       "    }\n",
       "</style>\n",
       "<table border=\"1\" class=\"dataframe\">\n",
       "  <thead>\n",
       "    <tr style=\"text-align: right;\">\n",
       "      <th></th>\n",
       "      <th>annais</th>\n",
       "      <th>preusuel</th>\n",
       "      <th>sexe</th>\n",
       "      <th>nombre</th>\n",
       "    </tr>\n",
       "  </thead>\n",
       "  <tbody>\n",
       "    <tr>\n",
       "      <th>0</th>\n",
       "      <td>1900</td>\n",
       "      <td>ABEL</td>\n",
       "      <td>51</td>\n",
       "      <td>382</td>\n",
       "    </tr>\n",
       "    <tr>\n",
       "      <th>1</th>\n",
       "      <td>1900</td>\n",
       "      <td>ABRAHAM</td>\n",
       "      <td>2</td>\n",
       "      <td>9</td>\n",
       "    </tr>\n",
       "    <tr>\n",
       "      <th>2</th>\n",
       "      <td>1900</td>\n",
       "      <td>ACHILLE</td>\n",
       "      <td>18</td>\n",
       "      <td>152</td>\n",
       "    </tr>\n",
       "    <tr>\n",
       "      <th>3</th>\n",
       "      <td>1900</td>\n",
       "      <td>ACHILLES</td>\n",
       "      <td>1</td>\n",
       "      <td>4</td>\n",
       "    </tr>\n",
       "    <tr>\n",
       "      <th>4</th>\n",
       "      <td>1900</td>\n",
       "      <td>ADAM</td>\n",
       "      <td>1</td>\n",
       "      <td>9</td>\n",
       "    </tr>\n",
       "    <tr>\n",
       "      <th>...</th>\n",
       "      <td>...</td>\n",
       "      <td>...</td>\n",
       "      <td>...</td>\n",
       "      <td>...</td>\n",
       "    </tr>\n",
       "    <tr>\n",
       "      <th>249121</th>\n",
       "      <td>2020</td>\n",
       "      <td>ÉVA</td>\n",
       "      <td>60</td>\n",
       "      <td>156</td>\n",
       "    </tr>\n",
       "    <tr>\n",
       "      <th>249122</th>\n",
       "      <td>2020</td>\n",
       "      <td>ÉVAN</td>\n",
       "      <td>16</td>\n",
       "      <td>62</td>\n",
       "    </tr>\n",
       "    <tr>\n",
       "      <th>249123</th>\n",
       "      <td>2020</td>\n",
       "      <td>ÉZIO</td>\n",
       "      <td>4</td>\n",
       "      <td>12</td>\n",
       "    </tr>\n",
       "    <tr>\n",
       "      <th>249124</th>\n",
       "      <td>2020</td>\n",
       "      <td>ÉZÉCHIEL</td>\n",
       "      <td>3</td>\n",
       "      <td>11</td>\n",
       "    </tr>\n",
       "    <tr>\n",
       "      <th>249125</th>\n",
       "      <td>2020</td>\n",
       "      <td>ÖMER</td>\n",
       "      <td>7</td>\n",
       "      <td>24</td>\n",
       "    </tr>\n",
       "  </tbody>\n",
       "</table>\n",
       "<p>249126 rows × 4 columns</p>\n",
       "</div>"
      ],
      "text/plain": [
       "       annais  preusuel  sexe  nombre\n",
       "0        1900      ABEL    51     382\n",
       "1        1900   ABRAHAM     2       9\n",
       "2        1900   ACHILLE    18     152\n",
       "3        1900  ACHILLES     1       4\n",
       "4        1900      ADAM     1       9\n",
       "...       ...       ...   ...     ...\n",
       "249121   2020       ÉVA    60     156\n",
       "249122   2020      ÉVAN    16      62\n",
       "249123   2020      ÉZIO     4      12\n",
       "249124   2020  ÉZÉCHIEL     3      11\n",
       "249125   2020      ÖMER     7      24\n",
       "\n",
       "[249126 rows x 4 columns]"
      ]
     },
     "execution_count": 47,
     "metadata": {},
     "output_type": "execute_result"
    }
   ],
   "source": [
    "grouped = names.groupby(['annais', 'preusuel'], as_index=False).sum()\n",
    "grouped"
   ]
  },
  {
   "cell_type": "code",
   "execution_count": 48,
   "metadata": {},
   "outputs": [],
   "source": [
    "#Ordered list of names per popularity \n",
    "popularity_names_ordered = grouped.groupby('preusuel')[\"nombre\"].sum().sort_values()[::-1].index.tolist()\n",
    "top_10_names = popularity_names_ordered[:10]\n",
    "#Random Sampling of 5 names among the remaining names to find less popular names\n",
    "random.seed(30)\n",
    "random_names = random.sample(popularity_names_ordered[10:], 5)"
   ]
  },
  {
   "cell_type": "code",
   "execution_count": 49,
   "metadata": {},
   "outputs": [
    {
     "name": "stdout",
     "output_type": "stream",
     "text": [
      "Top 10 names from 1900 to 2019 : \n",
      "['MARIE', 'JEAN', 'PIERRE', 'MICHEL', 'ANDRÉ', 'JEANNE', 'PHILIPPE', 'LOUIS', 'RENÉ', 'ALAIN']\n",
      "Random names sampled from the remaining dataset: \n",
      "['ARIANNE', 'ROHIT', 'MARCELLO', 'CARMELIA', 'LOUANE']\n"
     ]
    }
   ],
   "source": [
    "print(\"Top 10 names from 1900 to 2019 : \\n{}\".format(top_10_names))\n",
    "print(\"Random names sampled from the remaining dataset: \\n{}\".format(random_names))"
   ]
  },
  {
   "cell_type": "code",
   "execution_count": 50,
   "metadata": {},
   "outputs": [],
   "source": [
    "#Extraction of time series for the selected names\n",
    "subset1 = grouped.loc[grouped[\"preusuel\"].apply(lambda x : any(x == name for name in top_10_names))]\n",
    "subset2 = grouped.loc[grouped[\"preusuel\"].apply(lambda x : any(x == name for name in random_names))]"
   ]
  },
  {
   "cell_type": "code",
   "execution_count": 51,
   "metadata": {},
   "outputs": [],
   "source": [
    "subset_concat = pd.concat([subset1, subset2], axis = 0).sort_values(\"annais\")"
   ]
  },
  {
   "cell_type": "code",
   "execution_count": 52,
   "metadata": {},
   "outputs": [
    {
     "data": {
      "text/html": [
       "<div>\n",
       "<style scoped>\n",
       "    .dataframe tbody tr th:only-of-type {\n",
       "        vertical-align: middle;\n",
       "    }\n",
       "\n",
       "    .dataframe tbody tr th {\n",
       "        vertical-align: top;\n",
       "    }\n",
       "\n",
       "    .dataframe thead th {\n",
       "        text-align: right;\n",
       "    }\n",
       "</style>\n",
       "<table border=\"1\" class=\"dataframe\">\n",
       "  <thead>\n",
       "    <tr style=\"text-align: right;\">\n",
       "      <th></th>\n",
       "      <th>annais</th>\n",
       "      <th>preusuel</th>\n",
       "      <th>sexe</th>\n",
       "      <th>nombre</th>\n",
       "    </tr>\n",
       "  </thead>\n",
       "  <tbody>\n",
       "    <tr>\n",
       "      <th>22</th>\n",
       "      <td>1900</td>\n",
       "      <td>ALAIN</td>\n",
       "      <td>6</td>\n",
       "      <td>83</td>\n",
       "    </tr>\n",
       "    <tr>\n",
       "      <th>76</th>\n",
       "      <td>1900</td>\n",
       "      <td>ANDRÉ</td>\n",
       "      <td>95</td>\n",
       "      <td>5534</td>\n",
       "    </tr>\n",
       "    <tr>\n",
       "      <th>535</th>\n",
       "      <td>1900</td>\n",
       "      <td>JEAN</td>\n",
       "      <td>96</td>\n",
       "      <td>14100</td>\n",
       "    </tr>\n",
       "    <tr>\n",
       "      <th>543</th>\n",
       "      <td>1900</td>\n",
       "      <td>JEANNE</td>\n",
       "      <td>188</td>\n",
       "      <td>13981</td>\n",
       "    </tr>\n",
       "    <tr>\n",
       "      <th>613</th>\n",
       "      <td>1900</td>\n",
       "      <td>LOUIS</td>\n",
       "      <td>94</td>\n",
       "      <td>9052</td>\n",
       "    </tr>\n",
       "  </tbody>\n",
       "</table>\n",
       "</div>"
      ],
      "text/plain": [
       "    annais preusuel  sexe  nombre\n",
       "22    1900    ALAIN     6      83\n",
       "76    1900    ANDRÉ    95    5534\n",
       "535   1900     JEAN    96   14100\n",
       "543   1900   JEANNE   188   13981\n",
       "613   1900    LOUIS    94    9052"
      ]
     },
     "execution_count": 52,
     "metadata": {},
     "output_type": "execute_result"
    }
   ],
   "source": [
    "#Overview of the selected subset\n",
    "subset_concat.head(5)"
   ]
  },
  {
   "cell_type": "markdown",
   "metadata": {},
   "source": [
    "**NB**: The visualization is interactive, so it is necessary to download the notebook and run the cells "
   ]
  },
  {
   "cell_type": "markdown",
   "metadata": {},
   "source": [
    "- *Precisions about the choice of this Visualization* : I chose to use a line chart because it is quite relevant in the context of time series. To avoid the spaghetti effect and to be able to clearly observe the evolution of the popularity of each name, I chose to make the visualization interactive. Finally, the choice of Altair seemed natural to me because it is easy to handle and integrates perfectly in jupyter notebooks.\n",
    "\n",
    "\n",
    "- *Answers to questions about Visualization 1* : We notice that some names in the top 10 seem to evolve in a bell shape (ex : Alain, Philippe, Jean). They gradually increase until they reach a maximum value before gradually decreasing in the same way. Most of the names do not have a constant popularity as explained before. Some first names also never had success as we can see for Rohit or Carmelia. \n",
    "    \n",
    "    We can also see that some first names have known a great popularity in a brief way as Philippe between 1955 and 1970. We can also notice that this same first name is absolutely not more popular since about twenty years. Finally, we can observe a trend in the time which seems to be linear and sometimes polynomial (deg 2) for Alain and Philippe for instance.\n",
    "\n",
    "*Source* : \n",
    "\n",
    "Code inspired from : https://developers.google.com/earth-engine/tutorials/community/time-series-visualization-with-altair"
   ]
  },
  {
   "cell_type": "code",
   "execution_count": 74,
   "metadata": {
    "scrolled": true
   },
   "outputs": [
    {
     "data": {
      "text/html": [
       "\n",
       "<div id=\"altair-viz-d33c5e9a7d9043d3b7eec6e00ff3912f\"></div>\n",
       "<script type=\"text/javascript\">\n",
       "  var VEGA_DEBUG = (typeof VEGA_DEBUG == \"undefined\") ? {} : VEGA_DEBUG;\n",
       "  (function(spec, embedOpt){\n",
       "    let outputDiv = document.currentScript.previousElementSibling;\n",
       "    if (outputDiv.id !== \"altair-viz-d33c5e9a7d9043d3b7eec6e00ff3912f\") {\n",
       "      outputDiv = document.getElementById(\"altair-viz-d33c5e9a7d9043d3b7eec6e00ff3912f\");\n",
       "    }\n",
       "    const paths = {\n",
       "      \"vega\": \"https://cdn.jsdelivr.net/npm//vega@5?noext\",\n",
       "      \"vega-lib\": \"https://cdn.jsdelivr.net/npm//vega-lib?noext\",\n",
       "      \"vega-lite\": \"https://cdn.jsdelivr.net/npm//vega-lite@4.17.0?noext\",\n",
       "      \"vega-embed\": \"https://cdn.jsdelivr.net/npm//vega-embed@6?noext\",\n",
       "    };\n",
       "\n",
       "    function maybeLoadScript(lib, version) {\n",
       "      var key = `${lib.replace(\"-\", \"\")}_version`;\n",
       "      return (VEGA_DEBUG[key] == version) ?\n",
       "        Promise.resolve(paths[lib]) :\n",
       "        new Promise(function(resolve, reject) {\n",
       "          var s = document.createElement('script');\n",
       "          document.getElementsByTagName(\"head\")[0].appendChild(s);\n",
       "          s.async = true;\n",
       "          s.onload = () => {\n",
       "            VEGA_DEBUG[key] = version;\n",
       "            return resolve(paths[lib]);\n",
       "          };\n",
       "          s.onerror = () => reject(`Error loading script: ${paths[lib]}`);\n",
       "          s.src = paths[lib];\n",
       "        });\n",
       "    }\n",
       "\n",
       "    function showError(err) {\n",
       "      outputDiv.innerHTML = `<div class=\"error\" style=\"color:red;\">${err}</div>`;\n",
       "      throw err;\n",
       "    }\n",
       "\n",
       "    function displayChart(vegaEmbed) {\n",
       "      vegaEmbed(outputDiv, spec, embedOpt)\n",
       "        .catch(err => showError(`Javascript Error: ${err.message}<br>This usually means there's a typo in your chart specification. See the javascript console for the full traceback.`));\n",
       "    }\n",
       "\n",
       "    if(typeof define === \"function\" && define.amd) {\n",
       "      requirejs.config({paths});\n",
       "      require([\"vega-embed\"], displayChart, err => showError(`Error loading script: ${err.message}`));\n",
       "    } else {\n",
       "      maybeLoadScript(\"vega\", \"5\")\n",
       "        .then(() => maybeLoadScript(\"vega-lite\", \"4.17.0\"))\n",
       "        .then(() => maybeLoadScript(\"vega-embed\", \"6\"))\n",
       "        .catch(showError)\n",
       "        .then(() => displayChart(vegaEmbed));\n",
       "    }\n",
       "  })({\"config\": {\"view\": {\"continuousWidth\": 400, \"continuousHeight\": 300}}, \"layer\": [{\"mark\": \"circle\", \"encoding\": {\"color\": {\"field\": \"preusuel\", \"scale\": {\"scheme\": \"magma\"}, \"type\": \"nominal\"}, \"opacity\": {\"value\": 0}, \"tooltip\": [{\"field\": \"preusuel\", \"title\": \"Prenoms\", \"type\": \"nominal\"}, {\"field\": \"annais\", \"title\": \"Ann\\u00e9e\", \"type\": \"temporal\"}, {\"field\": \"nombre\", \"title\": \"Nombre\", \"type\": \"quantitative\"}], \"x\": {\"field\": \"annais\", \"scale\": {\"clamp\": true}, \"type\": \"temporal\"}, \"y\": {\"field\": \"nombre\", \"scale\": {}, \"type\": \"quantitative\"}}, \"selection\": {\"selector013\": {\"type\": \"single\", \"on\": \"mouseover\", \"fields\": [\"preusuel\"], \"nearest\": true}, \"selector014\": {\"type\": \"interval\", \"bind\": \"scales\", \"encodings\": [\"x\", \"y\"]}}, \"title\": \"LineChart of the evolution of the popularity of the top 10 names + 5 random names\"}, {\"mark\": \"line\", \"encoding\": {\"color\": {\"field\": \"preusuel\", \"scale\": {\"scheme\": \"magma\"}, \"type\": \"nominal\"}, \"size\": {\"condition\": {\"value\": 1, \"selection\": {\"not\": \"selector013\"}}, \"value\": 3}, \"x\": {\"field\": \"annais\", \"scale\": {\"clamp\": true}, \"type\": \"temporal\"}, \"y\": {\"field\": \"nombre\", \"scale\": {}, \"type\": \"quantitative\"}}, \"title\": \"LineChart of the evolution of the popularity of the top 10 names + 5 random names\"}], \"data\": {\"url\": \"altair-data-ca55e1ae01fd32be28a3561f24a9db4b.json\", \"format\": {\"type\": \"json\"}}, \"height\": 350, \"width\": 600, \"$schema\": \"https://vega.github.io/schema/vega-lite/v4.17.0.json\"}, {\"mode\": \"vega-lite\"});\n",
       "</script>"
      ],
      "text/plain": [
       "alt.LayerChart(...)"
      ]
     },
     "execution_count": 74,
     "metadata": {},
     "output_type": "execute_result"
    }
   ],
   "source": [
    "highlight = alt.selection(\n",
    "    type='single', on='mouseover', fields=['preusuel'], nearest=True)\n",
    "\n",
    "base = alt.Chart(subset_concat, title=\"LineChart of the evolution of the popularity of the top 10 names + 5 random names\").encode(\n",
    "    x=alt.X('annais:T', scale=alt.Scale(clamp=True)),\n",
    "    y=alt.Y('nombre:Q', scale=alt.Scale()),\n",
    "    color=alt.Color('preusuel:N', scale=alt.Scale(scheme='magma')))\n",
    "\n",
    "points = base.mark_circle().encode(\n",
    "    opacity=alt.value(0),\n",
    "    tooltip=[\n",
    "        alt.Tooltip('preusuel:N', title='Prenoms'),\n",
    "        alt.Tooltip('annais:T', title='Année'),\n",
    "        alt.Tooltip('nombre:Q', title='Nombre')\n",
    "    ]).add_selection(highlight)\n",
    "\n",
    "lines = base.mark_line().encode(\n",
    "    size=alt.condition(~highlight, alt.value(1), alt.value(3)))\n",
    "\n",
    "(points + lines).properties(width=600, height=350).interactive()\n"
   ]
  }, 
   {
   "cell_type": "markdown",
   "id": "4afb3e3e",
   "metadata": {},
   "source": [
    "![](LineChart_DataVis_1.png)\n"
   ]
  }
 ],
 "metadata": {
  "kernelspec": {
   "display_name": "Python 3 (ipykernel)",
   "language": "python",
   "name": "python3"
  },
  "language_info": {
   "codemirror_mode": {
    "name": "ipython",
    "version": 3
   },
   "file_extension": ".py",
   "mimetype": "text/x-python",
   "name": "python",
   "nbconvert_exporter": "python",
   "pygments_lexer": "ipython3",
   "version": "3.8.8"
  },
  "toc": {
   "base_numbering": 1,
   "nav_menu": {},
   "number_sections": true,
   "sideBar": true,
   "skip_h1_title": false,
   "title_cell": "Table of Contents",
   "title_sidebar": "Contents",
   "toc_cell": false,
   "toc_position": {},
   "toc_section_display": true,
   "toc_window_display": false
  }
 },
 "nbformat": 4,
 "nbformat_minor": 2
}
