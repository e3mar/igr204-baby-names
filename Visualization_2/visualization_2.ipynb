{
 "cells": [
  {
   "cell_type": "code",
   "execution_count": null,
   "metadata": {
    "collapsed": false,
    "jupyter": {
     "outputs_hidden": false
    },
    "pycharm": {
     "name": "#%%\n"
    }
   },
   "outputs": [],
   "source": [
    "import geopandas as gpd\n",
    "import json\n",
    "import altair as alt\n",
    "import pandas as pd"
   ]
  },
  {
   "cell_type": "code",
   "execution_count": null,
   "metadata": {
    "collapsed": false,
    "jupyter": {
     "outputs_hidden": false
    },
    "pycharm": {
     "name": "#%%\n"
    }
   },
   "outputs": [],
   "source": [
    "departement_to_region = {'971': '01', '972': '02', '973': '03', '974': '04', '01': '84', '02': '32', '03': '84', '04': '93', '05': '93', '06': '93', '07': '84', '08': '44', '09': '76', '10': '44', '11': '76', '12': '76', '13': '93', '14': '28', '15': '84', '16': '75', '17': '75', '18': '24', '19': '75', '2A': '94', '2B': '94', '21': '27', '22': '53',  '23': '75', '24': '75', '25': '27', '26': '84', '27': '28', '28': '24', '29': '53', '30': '76', '31': '76', '32': '76', '33': '75', '34': '76', '35': '53', '36': '24', '37': '24', '38': '84', '39': '27', '40': '75', '41': '24', '42': '84', '43': '84', '44': '52', '45': '24', '46': '76', '47': '75', '48': '76', '49': '52', '50': '28', '51': '44', '52': '44', '53': '52', '54': '44', '55': '44', '56': '53', '57': '44', '58': '27', '59': '32', '60': '32', '61': '28', '62': '32', '63': '84', '64': '75', '65': '76', '66': '76', '67': '44', '68': '44', '69': '84', '70': '27', '71': '27', '72': '52', '73': '84', '74': '84', '75': '11', '76': '28', '77': '11', '78': '11', '79': '75', '80': '32', '81': '76', '82': '76', '83': '93', '84': '93', '85': '52', '86': '75', '87': '75', '88': '44', '89': '27', '90': '27', '91': '11', '92': '11', '93': '11', '94': '11', '95': '11'}\n",
    "region_to_name = {'84':'Auvergne-Rhône-Alpes','27':'Bourgogne-Franche-Comté','53':'Bretagne','24':'Centre-Val de Loire','94':'Corse','44':'Grand Est','01':'Guadeloupe','03':'Guyane','32':'Hauts-de-France','11':'Île-de-France','04':'La Réunion','02':'Martinique','28':'Normandie','75':'Nouvelle-Aquitaine','76':'Occitanie','52':'Pays de la Loire','93':\"Provence-Alpes-Côte d'Azur\"}\n"
   ]
  },
  {
   "cell_type": "code",
   "execution_count": null,
   "metadata": {
    "collapsed": false,
    "jupyter": {
     "outputs_hidden": false
    },
    "pycharm": {
     "name": "#%%\n"
    }
   },
   "outputs": [],
   "source": [
    "names = pd.read_csv(\"data/dpt2020.csv\", sep=\";\")\n",
    "names.head(5)"
   ]
  },
  {
   "cell_type": "code",
   "execution_count": null,
   "metadata": {
    "collapsed": false,
    "jupyter": {
     "outputs_hidden": false
    },
    "pycharm": {
     "name": "#%%\n"
    }
   },
   "outputs": [],
   "source": [
    "# some basic cleaning\n",
    "names = names[names.annais != \"XXXX\"]\n",
    "names[\"preusuel\"] = names[\"preusuel\"].astype(str)\n",
    "names[\"annais\"] = names[\"annais\"].astype(int)\n",
    "names[\"region\"] = names[\"dpt\"].map(departement_to_region)\n",
    "names.drop(columns=[\"dpt\"], inplace=True)"
   ]
  },
  {
   "cell_type": "code",
   "execution_count": null,
   "metadata": {
    "collapsed": false,
    "jupyter": {
     "outputs_hidden": false
    },
    "pycharm": {
     "name": "#%%\n"
    }
   },
   "outputs": [],
   "source": [
    "names_1986 = names[names.annais == 1986]\n",
    "names_1986.head(5)"
   ]
  },
  {
   "cell_type": "code",
   "execution_count": null,
   "metadata": {
    "collapsed": false,
    "jupyter": {
     "outputs_hidden": false
    },
    "pycharm": {
     "name": "#%%\n"
    }
   },
   "outputs": [],
   "source": [
    "reduced_names_1986 = names_1986.groupby(by=[\"region\", \"preusuel\", \"sexe\",  \"annais\", ]).sum().reset_index().sort_values([\"region\", \"nombre\"], ascending=[True, False]) \n",
    "reduced_names_1986 = reduced_names_1986[reduced_names_1986.preusuel != \"_PRENOMS_RARES\"]\n",
    "reduced_names_1986[\"nom\"] = reduced_names_1986[\"region\"].map(region_to_name)\n",
    "reduced_names_1986.rename(columns = {\"region\": \"code_insee\"}, inplace=True)\n",
    "reduced_names_1986"
   ]
  },
  {
   "cell_type": "code",
   "execution_count": null,
   "metadata": {
    "collapsed": false,
    "jupyter": {
     "outputs_hidden": false
    },
    "pycharm": {
     "name": "#%%\n"
    }
   },
   "outputs": [],
   "source": [
    "gdf = gpd.read_file('regions/regions-20180101.shp')\n",
    "gdf[\"centroid\"] = gdf[\"geometry\"].centroid\n",
    "gdf[\"x\"] = gdf.centroid.map(lambda p: p.x)\n",
    "gdf[\"y\"] = gdf.centroid.map(lambda p: p.y)\n",
    "gdf.drop(columns=[\"centroid\"], inplace=True)"
   ]
  },
  {
   "cell_type": "code",
   "execution_count": null,
   "metadata": {
    "collapsed": false,
    "jupyter": {
     "outputs_hidden": false
    },
    "pycharm": {
     "name": "#%%\n"
    }
   },
   "outputs": [],
   "source": [
    "gdf"
   ]
  },
  {
   "cell_type": "code",
   "execution_count": null,
   "metadata": {
    "collapsed": false,
    "jupyter": {
     "outputs_hidden": false
    },
    "pycharm": {
     "name": "#%%\n"
    }
   },
   "outputs": [],
   "source": [
    "region_count = reduced_names_1986.groupby([\"code_insee\"]).count().reset_index()[[\"code_insee\", \"preusuel\"]]\n",
    "region_count.columns = [\"code_insee\", \"Count of unique names\"]\n",
    "region_merge = pd.merge(gdf,region_count, on=\"code_insee\")\n",
    "region_merge.head(5)"
   ]
  },
  {
   "cell_type": "code",
   "execution_count": null,
   "metadata": {
    "collapsed": false,
    "jupyter": {
     "outputs_hidden": false
    },
    "pycharm": {
     "name": "#%%\n"
    }
   },
   "outputs": [],
   "source": [
    "multi = alt.selection_multi(fields=[\"code_insee\", \"nom\"], bind='legend')\n",
    "\n",
    "color = alt.condition(multi,\n",
    "                      alt.Color('Count of unique names', type='quantitative',\n",
    "                                scale=alt.Scale(scheme='oranges')),\n",
    "                      alt.value('lightgray'))\n",
    "\n",
    "hover = alt.selection(type='single', on='mouseover', nearest=True,\n",
    "                      fields=['x', 'y'])\n",
    "\n",
    "\n",
    "region_map = alt.Chart(region_merge[~region_merge.code_insee.isin([\"04\", \"02\", \"01\", \"03\", \"06\"])]).mark_geoshape(\n",
    "    stroke='grey'\n",
    ").encode(\n",
    "    color=color,\n",
    "    tooltip=[\"nom\", 'Count of unique names']\n",
    ").add_selection(\n",
    "    multi\n",
    ").properties(\n",
    "    title=\"First name diversity by region\",\n",
    "    width=550,\n",
    "    height=700\n",
    ")\n",
    "\n",
    "\n",
    "labels = alt.Chart(region_merge[~region_merge.code_insee.isin([\"04\", \"02\", \"01\", \"03\", \"06\"])]).mark_text().encode(\n",
    "    longitude='x',\n",
    "    latitude='y',\n",
    "    text='nom',\n",
    "    size=alt.value(12),\n",
    "    opacity=alt.value(0.8)\n",
    ")\n",
    "\n",
    "hist_popularity = alt.Chart(reduced_names_1986.groupby(by=\"code_insee\").head(15).reset_index()).mark_bar().encode(\n",
    "    x = alt.X(\"preusuel:N\", title=\"First name\", sort=\"-y\"),\n",
    "    y = alt.Y('nombre', title=\"Total count\"),\n",
    "    color = alt.Color('nom') \n",
    ").properties(\n",
    "    title=\"First name popularity for selected regions\",\n",
    "    width=550,\n",
    "    height=700,\n",
    ").transform_filter(multi)\n",
    "\n",
    "region_map + labels | hist_popularity"
   ]
  }
 ],
 "metadata": {
  "kernelspec": {
   "display_name": "Python 3 (ipykernel)",
   "language": "python",
   "name": "python3"
  },
  "language_info": {
   "codemirror_mode": {
    "name": "ipython",
    "version": 3
   },
   "file_extension": ".py",
   "mimetype": "text/x-python",
   "name": "python",
   "nbconvert_exporter": "python",
   "pygments_lexer": "ipython3",
   "version": "3.9.10"
  }
 },
 "nbformat": 4,
 "nbformat_minor": 4
}
